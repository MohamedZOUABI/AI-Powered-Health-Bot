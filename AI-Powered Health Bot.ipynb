{
 "cells": [
  {
   "cell_type": "code",
   "execution_count": 1,
   "metadata": {},
   "outputs": [],
   "source": [
    "import gradio as gr\n",
    "from transformers import AutoTokenizer, AutoModelForCausalLM\n",
    "import torch\n"
   ]
  },
  {
   "cell_type": "code",
   "execution_count": 2,
   "metadata": {},
   "outputs": [],
   "source": [
    "# Check if a GPU is available\n",
    "device = torch.device(\"cuda\" if torch.cuda.is_available() else \"cpu\")\n",
    "\n"
   ]
  },
  {
   "cell_type": "code",
   "execution_count": null,
   "metadata": {},
   "outputs": [],
   "source": [
    "# Load model and tokenizer\n",
    "tokenizer = AutoTokenizer.from_pretrained(\"google/gemma-2b\", use_auth_token=True)\n",
    "model = AutoModelForCausalLM.from_pretrained(\"google/gemma-2b\", use_auth_token=True)\n",
    "\n",
    "# Move model to the GPU\n",
    "model.to(device)\n",
    "\n"
   ]
  },
  {
   "cell_type": "code",
   "execution_count": null,
   "metadata": {},
   "outputs": [],
   "source": [
    "# Define examples\n",
    "examples = [\n",
    "    \"What are the symptoms of diabetes?\",\n",
    "    \"What are the symptoms of COVID-19?\",\n",
    "    \"What are the symptoms of fever?\",\n",
    "    \"Hello, how are you doing?\"\n",
    "]\n",
    "\n",
    "def generate_text(input_text):\n",
    "    # Tokenize input\n",
    "    input_ids = tokenizer(input_text, return_tensors=\"pt\")\n",
    "    \n",
    "    # Move input tensors to the GPU\n",
    "    input_ids = {k: v.to(device) for k, v in input_ids.items()}\n",
    "    \n",
    "    # Generate text\n",
    "    outputs = model.generate(input_ids['input_ids'],\n",
    "                             max_length=88,  # Adjust the maximum length of the generated text\n",
    "                             num_return_sequences=1)  # Adjust the number of sequences to generate\n",
    "    \n",
    "    return tokenizer.decode(outputs[0], skip_special_tokens=True)\n",
    "\n"
   ]
  },
  {
   "cell_type": "code",
   "execution_count": null,
   "metadata": {},
   "outputs": [],
   "source": [
    "# Create Gradio interface\n",
    "iface = gr.Interface(fn=generate_text, \n",
    "                     inputs=\"text\", \n",
    "                     outputs=\"text\", \n",
    "                     title=\"AI-Powered Health Bot\",\n",
    "                     description=\"Enter a prompt to interact with AI-Powered Health Bot.\")\n",
    "\n"
   ]
  },
  {
   "cell_type": "code",
   "execution_count": null,
   "metadata": {},
   "outputs": [],
   "source": [
    "# Launch the Gradio app\n",
    "if __name__ == \"__main__\":\n",
    "    iface.launch()\n"
   ]
  }
 ],
 "metadata": {
  "kernelspec": {
   "display_name": "Python 3",
   "language": "python",
   "name": "python3"
  },
  "language_info": {
   "codemirror_mode": {
    "name": "ipython",
    "version": 3
   },
   "file_extension": ".py",
   "mimetype": "text/x-python",
   "name": "python",
   "nbconvert_exporter": "python",
   "pygments_lexer": "ipython3",
   "version": "3.10.9"
  }
 },
 "nbformat": 4,
 "nbformat_minor": 2
}
